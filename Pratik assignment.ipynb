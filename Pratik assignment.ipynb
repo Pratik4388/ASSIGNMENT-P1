{
 "cells": [
  {
   "cell_type": "code",
   "execution_count": 3,
   "id": "b87ca7ff",
   "metadata": {},
   "outputs": [
    {
     "name": "stdout",
     "output_type": "stream",
     "text": [
      "welcome to pythone by pratik\n"
     ]
    }
   ],
   "source": [
    "print(\"welcome to pythone by pratik\")"
   ]
  },
  {
   "cell_type": "code",
   "execution_count": 3,
   "id": "b6a66842",
   "metadata": {},
   "outputs": [
    {
     "name": "stdout",
     "output_type": "stream",
     "text": [
      "enter a number:5\n",
      "15.0\n"
     ]
    }
   ],
   "source": [
    "#Module-1\n",
    "#1. Write a python program to sum of the first n positive integers.\n",
    "\n",
    "n = int(input(\"enter a number:\"))\n",
    "sum = (n*(n+1)) /2\n",
    "print(sum)"
   ]
  },
  {
   "cell_type": "code",
   "execution_count": 2,
   "id": "afefd877",
   "metadata": {},
   "outputs": [
    {
     "name": "stdout",
     "output_type": "stream",
     "text": [
      "o :  4\n",
      "the :  2\n"
     ]
    }
   ],
   "source": [
    "#2. Write a Python program to count occurrences of a substring in a string.\n",
    "\n",
    "string = 'the fast brown lion jumps over the lazy dog'\n",
    "print('o : ', string.count('o'))\n",
    "print('the : ', string.count('the'))\n",
    "    "
   ]
  },
  {
   "cell_type": "code",
   "execution_count": 3,
   "id": "454aecdb",
   "metadata": {},
   "outputs": [
    {
     "name": "stdout",
     "output_type": "stream",
     "text": [
      "3\n"
     ]
    }
   ],
   "source": [
    "#3. Write a Python program to count the occurrences of each word in a given sentence.\n",
    "\n",
    "string1 = 'It is a beautiful rainy rainy day as rainy season is going on now in india.'\n",
    "print(string1.count('rainy'))"
   ]
  },
  {
   "cell_type": "code",
   "execution_count": 11,
   "id": "22844aad",
   "metadata": {},
   "outputs": [
    {
     "name": "stdout",
     "output_type": "stream",
     "text": [
      "TIRTHA ANAYA\n"
     ]
    }
   ],
   "source": [
    "#4. Write a Python program to get a single string from two given strings, \n",
    "   # separated by a space and swap the first two characters of each string.\n",
    "    \n",
    "P2,P1 = \"ANRTHA\",\"TIAYA\"    \n",
    "K2=P1[0:2]+P2[2:]\n",
    "K1=P2[0:2]+P1[2:]\n",
    "print(K2+' '+K1)\n",
    "\n",
    "\n",
    "    "
   ]
  },
  {
   "cell_type": "code",
   "execution_count": 5,
   "id": "ea7de9da",
   "metadata": {},
   "outputs": [
    {
     "name": "stdout",
     "output_type": "stream",
     "text": [
      "eating\n"
     ]
    }
   ],
   "source": [
    "# 5.write a Python program to add 'ing' at the end of a given string (length should be at least 3). \n",
    "# If the given string already ends with 'ing' then add 'ly' instead If the string length of the given \n",
    "# string is less than 3, leave it unchanged.\n",
    "\n",
    "a1=\"eat\"\n",
    "if len(a1)>=3:\n",
    "    a1= a1+\"ing\"\n",
    "    print(a1)\n",
    "else:\n",
    "    print(a1)"
   ]
  },
  {
   "cell_type": "code",
   "execution_count": 6,
   "id": "b68215c4",
   "metadata": {},
   "outputs": [
    {
     "name": "stdout",
     "output_type": "stream",
     "text": [
      "playingly\n"
     ]
    }
   ],
   "source": [
    "t1=\"playing\"\n",
    "if len(t1)>=3:\n",
    "    if t1[-3:]==\"ing\":\n",
    "        t1= t1+ \"ly\"\n",
    "    else:\n",
    "        t1= t1+\"ing\"\n",
    "    print(t1)\n",
    "else:\n",
    "    print(t1)"
   ]
  },
  {
   "cell_type": "code",
   "execution_count": 14,
   "id": "6fa0f1d6",
   "metadata": {},
   "outputs": [
    {
     "name": "stdout",
     "output_type": "stream",
     "text": [
      "12\n",
      "21\n"
     ]
    }
   ],
   "source": [
    "#  6.Write a Python program to find the first appearance of the substring 'not' and 'poor' from a given string, if \n",
    "# 'not' follows the 'poor', replace the whole 'not'...'poor' substring with 'good'. \n",
    "# Return the resulting string.\n",
    "\n",
    "str='the food is not that poor'\n",
    "print(str.find('not'))\n",
    "print(str.find('poor'))"
   ]
  },
  {
   "cell_type": "code",
   "execution_count": 15,
   "id": "6efc9f5c",
   "metadata": {},
   "outputs": [
    {
     "name": "stdout",
     "output_type": "stream",
     "text": [
      "not position- 12\n",
      "poor position- 21\n",
      "the food is good\n"
     ]
    }
   ],
   "source": [
    "str='the food is not that poor'\n",
    "position_not=(str.find('not'))\n",
    "position_poor=(str.find('poor'))\n",
    "print(\"not position-\", position_not)\n",
    "print(\"poor position-\", position_poor)\n",
    "if position_not < position_poor:\n",
    "    print(str[0:position_not]+\"good\")"
   ]
  },
  {
   "cell_type": "code",
   "execution_count": 18,
   "id": "59bf2513",
   "metadata": {},
   "outputs": [
    {
     "name": "stdout",
     "output_type": "stream",
     "text": [
      "GCD of 20 & 28 is- 4\n",
      "GCD of 98 & 56 is- 14\n"
     ]
    }
   ],
   "source": [
    "#  7.Program to find Greatest Common Divisor of two numbers.\n",
    "# For example, the GCD of 20 and 28 is 4 and GCD of 98 and 56 is 14.\n",
    "\n",
    "import math\n",
    "divisor1 = math.gcd(20, 28)\n",
    "print(\"GCD of 20 & 28 is-\", divisor1)\n",
    "divisor2 = math.gcd(98, 56)\n",
    "print(\"GCD of 98 & 56 is-\", divisor2)"
   ]
  },
  {
   "cell_type": "code",
   "execution_count": null,
   "id": "347500d2",
   "metadata": {},
   "outputs": [],
   "source": []
  }
 ],
 "metadata": {
  "kernelspec": {
   "display_name": "Python 3 (ipykernel)",
   "language": "python",
   "name": "python3"
  },
  "language_info": {
   "codemirror_mode": {
    "name": "ipython",
    "version": 3
   },
   "file_extension": ".py",
   "mimetype": "text/x-python",
   "name": "python",
   "nbconvert_exporter": "python",
   "pygments_lexer": "ipython3",
   "version": "3.9.12"
  }
 },
 "nbformat": 4,
 "nbformat_minor": 5
}
